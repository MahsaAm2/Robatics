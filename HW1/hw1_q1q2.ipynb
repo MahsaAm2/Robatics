{
 "cells": [
  {
   "cell_type": "code",
   "execution_count": 1,
   "id": "611fcc13",
   "metadata": {},
   "outputs": [],
   "source": [
    "import numpy as np"
   ]
  },
  {
   "cell_type": "markdown",
   "id": "6380d551",
   "metadata": {},
   "source": [
    "### سوال یک"
   ]
  },
  {
   "cell_type": "code",
   "execution_count": 2,
   "id": "ad67b5c6",
   "metadata": {},
   "outputs": [],
   "source": [
    "def myRPYToR(r,p,y):\n",
    "    \n",
    "    alfa = y*np.pi/180\n",
    "    beta = p*np.pi/180\n",
    "    gama = r*np.pi/180\n",
    "    \n",
    "    r11 = np.cos(alfa)*np.cos(beta)\n",
    "    r12 = (np.cos(alfa)*np.sin(beta)*np.sin(gama))-(np.sin(alfa)*np.cos(gama))\n",
    "    r13 = (np.cos(alfa)*np.sin(beta)*np.cos(gama))+(np.sin(alfa)*np.sin(gama))\n",
    "    r21 = np.sin(alfa)*np.cos(beta)\n",
    "    r22 = (np.sin(alfa)*np.sin(beta)*np.sin(gama))+(np.cos(alfa)+np.cos(gama))\n",
    "    r23 = (np.sin(alfa)*np.sin(beta)*np.cos(gama))-(np.cos(alfa)*np.sin(gama))\n",
    "    r31 = -np.sin(beta)\n",
    "    r32 = np.cos(beta)*np.sin(gama)\n",
    "    r33 = np.cos(beta)*np.cos(gama)\n",
    "    \n",
    "  \n",
    "    R =[[r11, r12, r13],[r21, r22, r23],[r31 ,r32, r33]]\n",
    "    return R\n",
    "    "
   ]
  },
  {
   "cell_type": "code",
   "execution_count": 3,
   "id": "f44065b4",
   "metadata": {},
   "outputs": [],
   "source": [
    "R =myRPYToR(30,40,60)"
   ]
  },
  {
   "cell_type": "markdown",
   "id": "054a12cb",
   "metadata": {},
   "source": [
    "### سوال دو"
   ]
  },
  {
   "cell_type": "code",
   "execution_count": 4,
   "id": "14be299e",
   "metadata": {},
   "outputs": [],
   "source": [
    "def myRtoRPY(R):\n",
    "    temp1=-R[2][0]\n",
    "    temp2 = np.abs(np.sqrt(np.square(R[0][0])+np.square(R[1][0])))\n",
    "    beta = np.arctan2(temp1,temp2)\n",
    "    if(beta==np.pi/2):\n",
    "        alfa =0\n",
    "        gama = np.arctan2(R[0][1],R[1][1])\n",
    "    \n",
    "    elif (beta==-np.pi/2):\n",
    "        alfa=0\n",
    "        gama = -np.arctan2(R[0][1],R[1][1])\n",
    "        \n",
    "    else:\n",
    "    \n",
    "        temp3 =R[1][0]/np.cos(beta)\n",
    "   \n",
    "        temp4 =R[0][0]/np.cos(beta)\n",
    "        alfa =np.arctan2(temp3,temp4)\n",
    "        temp5 = R[2][1]/np.cos(beta)\n",
    "        temp6 = R[2][2]/np.cos(beta)\n",
    "        gama = np.arctan2(temp5,temp6)\n",
    "        \n",
    "        \n",
    "    gama = gama*180/np.pi\n",
    "    alfa = alfa*180/np.pi\n",
    "    beta = beta*180/np.pi\n",
    "    return gama,beta,alfa"
   ]
  },
  {
   "cell_type": "code",
   "execution_count": 5,
   "id": "87a2fbba",
   "metadata": {},
   "outputs": [],
   "source": [
    "r,p,y =myRtoRPY(R)"
   ]
  },
  {
   "cell_type": "code",
   "execution_count": 6,
   "id": "ed44e5d7",
   "metadata": {},
   "outputs": [
    {
     "data": {
      "text/plain": [
       "29.999999999999993"
      ]
     },
     "execution_count": 6,
     "metadata": {},
     "output_type": "execute_result"
    }
   ],
   "source": [
    "r"
   ]
  },
  {
   "cell_type": "code",
   "execution_count": 7,
   "id": "d58ebf83",
   "metadata": {},
   "outputs": [
    {
     "data": {
      "text/plain": [
       "39.99999999999999"
      ]
     },
     "execution_count": 7,
     "metadata": {},
     "output_type": "execute_result"
    }
   ],
   "source": [
    "p"
   ]
  },
  {
   "cell_type": "code",
   "execution_count": 8,
   "id": "93d9860e",
   "metadata": {},
   "outputs": [
    {
     "data": {
      "text/plain": [
       "59.99999999999999"
      ]
     },
     "execution_count": 8,
     "metadata": {},
     "output_type": "execute_result"
    }
   ],
   "source": [
    "y"
   ]
  }
 ],
 "metadata": {
  "kernelspec": {
   "display_name": "Python 3 (ipykernel)",
   "language": "python",
   "name": "python3"
  },
  "language_info": {
   "codemirror_mode": {
    "name": "ipython",
    "version": 3
   },
   "file_extension": ".py",
   "mimetype": "text/x-python",
   "name": "python",
   "nbconvert_exporter": "python",
   "pygments_lexer": "ipython3",
   "version": "3.9.7"
  }
 },
 "nbformat": 4,
 "nbformat_minor": 5
}
