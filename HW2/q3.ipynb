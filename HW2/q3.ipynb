{
 "cells": [
  {
   "cell_type": "code",
   "execution_count": 1,
   "id": "6b0fa2c3",
   "metadata": {},
   "outputs": [],
   "source": [
    "import numpy as np"
   ]
  },
  {
   "cell_type": "code",
   "execution_count": 4,
   "id": "dee4b69a",
   "metadata": {},
   "outputs": [],
   "source": [
    "def inv_k(r11=0,r12=0,r13=0,r14=0,r21=0,r22=0,r23=0,r24=0,r31=0,r32=0,r33=1,r34=0,r41=0,r42=0,r43=0,r44=1):\n",
    "    d=0.5\n",
    "\n",
    "    cphi=r11\n",
    "    sphi=-r12\n",
    "    x=r14\n",
    "    y=r24\n",
    "\n",
    "    phi = np.arctan2(sphi,cphi)\n",
    "\n",
    "    d2=np.sqrt(np.power(x,2)+np.power(y,2)-np.power(d,2))\n",
    "    r= np.sqrt(np.power(d,2)+np.power(d2,2))\n",
    "    gama = np.arctan2(d/r,d2/r)\n",
    "    theta1 = np.arctan2(x/r,-y/r)-gama\n",
    "    theta3 = phi -theta1\n",
    "\n",
    "    print(\"d2= %.2f\" %d2)\n",
    "    print(\"theta1= %.2f\" %theta1)\n",
    "    print(\"theta3= %.2f\" %theta3)"
   ]
  },
  {
   "cell_type": "code",
   "execution_count": 5,
   "id": "cd8e80ac",
   "metadata": {},
   "outputs": [
    {
     "name": "stdout",
     "output_type": "stream",
     "text": [
      "d2= 3.99\n",
      "theta1= 0.52\n",
      "theta3= 0.79\n"
     ]
    }
   ],
   "source": [
    "inv_k(0.25,-0.96,0,2.43,0.25,0.96,0,-3.21,0,0,1,0,0,0,0,1)"
   ]
  },
  {
   "cell_type": "code",
   "execution_count": null,
   "id": "aec6a791",
   "metadata": {},
   "outputs": [],
   "source": []
  }
 ],
 "metadata": {
  "kernelspec": {
   "display_name": "Python 3 (ipykernel)",
   "language": "python",
   "name": "python3"
  },
  "language_info": {
   "codemirror_mode": {
    "name": "ipython",
    "version": 3
   },
   "file_extension": ".py",
   "mimetype": "text/x-python",
   "name": "python",
   "nbconvert_exporter": "python",
   "pygments_lexer": "ipython3",
   "version": "3.9.7"
  }
 },
 "nbformat": 4,
 "nbformat_minor": 5
}
